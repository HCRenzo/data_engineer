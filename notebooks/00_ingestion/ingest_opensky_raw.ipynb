{
 "cells": [
  {
   "cell_type": "code",
   "execution_count": 0,
   "metadata": {
    "application/vnd.databricks.v1+cell": {
     "cellMetadata": {
      "byteLimit": 2048000,
      "rowLimit": 10000
     },
     "inputWidgets": {},
     "nuid": "5c136b0a-1410-4327-86f3-d4e2d5570589",
     "showTitle": false,
     "tableResultSettingsMap": {},
     "title": ""
    }
   },
   "outputs": [],
   "source": [
    "import requests\n",
    "import json\n",
    "from pyspark.sql import Row\n",
    "\n",
    "# Parámetros API OpenSky\n",
    "url = \"https://opensky-network.org/api/states/all\"\n",
    "resp = requests.get(url, timeout=30)\n",
    "resp.raise_for_status()\n",
    "data = resp.json()\n",
    "\n",
    "# Convertir a DataFrame Spark\n",
    "fields = [\n",
    "  \"icao24\", \"callsign\", \"origin_country\",\n",
    "  \"time_position\", \"last_contact\",\n",
    "  \"longitude\", \"latitude\", \"baro_altitude\",\n",
    "  \"on_ground\", \"velocity\", \"true_track\",\n",
    "  \"vertical_rate\", \"sensors\", \"geo_altitude\",\n",
    "  \"squawk\", \"spi\", \"position_source\"\n",
    "]\n",
    "rows = [Row(**dict(zip(fields, state))) for state in data.get(\"states\", [])]\n",
    "df = spark.createDataFrame(rows)\n",
    "\n",
    "# Guardar en Bronze como Delta\n",
    "bronze_path = \"/mnt/datalake/bronze/opensky/\"\n",
    "df.write.format(\"delta\").mode(\"append\").save(bronze_path)\n",
    "print(f\"✅ Ingesta completada: {df.count()} registros insertados en Bronze\")\n"
   ]
  }
 ],
 "metadata": {
  "application/vnd.databricks.v1+notebook": {
   "computePreferences": null,
   "dashboards": [],
   "environmentMetadata": null,
   "inputWidgetPreferences": null,
   "language": "python",
   "notebookMetadata": {
    "pythonIndentUnit": 4
   },
   "notebookName": "ingest_opensky_raw",
   "widgets": {}
  },
  "kernelspec": {
   "display_name": "Python 3",
   "language": "python",
   "name": "python3"
  },
  "language_info": {
   "name": "python"
  }
 },
 "nbformat": 4,
 "nbformat_minor": 0
}
