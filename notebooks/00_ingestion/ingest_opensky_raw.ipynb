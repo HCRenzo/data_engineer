{
 "cells": [
  {
   "cell_type": "code",
   "execution_count": 0,
   "metadata": {
    "application/vnd.databricks.v1+cell": {
     "cellMetadata": {
      "byteLimit": 2048000,
      "rowLimit": 10000
     },
     "inputWidgets": {},
     "nuid": "5c136b0a-1410-4327-86f3-d4e2d5570589",
     "showTitle": false,
     "tableResultSettingsMap": {},
     "title": ""
    }
   },
   "outputs": [],
   "source": [
    "import os\n",
    "import json\n",
    "from datetime import datetime\n",
    "from pathlib import Path\n",
    "import sys\n",
    "sys.path.append(str(Path(__file__).resolve().parent.parent))  # 👈 Esto es clave\n",
    "\n",
    "from src.api_client import fetch_opensky_states\n",
    "\n",
    "def save_raw_data_to_file():\n",
    "    try:\n",
    "        # Obtener datos desde la API de OpenSky\n",
    "        data = fetch_opensky_states()\n",
    "\n",
    "        # Crear carpeta si no existe\n",
    "        data_dir = Path(\"data\")\n",
    "        data_dir.mkdir(exist_ok=True)\n",
    "\n",
    "        # Nombre de archivo con fecha\n",
    "        timestamp = datetime.utcnow().strftime(\"%Y%m%d\")\n",
    "        filename = f\"opensky_raw_{timestamp}.json\"\n",
    "        filepath = data_dir / filename\n",
    "\n",
    "        # Guardar archivo JSON\n",
    "        with open(filepath, \"w\") as f:\n",
    "            json.dump(data, f, indent=4)\n",
    "\n",
    "        print(f\"✅ Datos guardados en: {filepath}\")\n",
    "    except Exception as e:\n",
    "        print(f\"❌ Error: {e}\")\n",
    "\n",
    "if __name__ == \"__main__\":\n",
    "    save_raw_data_to_file()\n"
   ]
  }
 ],
 "metadata": {
  "application/vnd.databricks.v1+notebook": {
   "computePreferences": null,
   "dashboards": [],
   "environmentMetadata": null,
   "inputWidgetPreferences": null,
   "language": "python",
   "notebookMetadata": {
    "pythonIndentUnit": 4
   },
   "notebookName": "ingest_opensky_raw",
   "widgets": {}
  },
  "kernelspec": {
   "display_name": "Python 3",
   "language": "python",
   "name": "python3"
  },
  "language_info": {
   "name": "python"
  }
 },
 "nbformat": 4,
 "nbformat_minor": 0
}
