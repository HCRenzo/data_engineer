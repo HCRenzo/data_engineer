{
 "cells": [
  {
   "cell_type": "code",
   "execution_count": 3,
   "id": "aaa22f07",
   "metadata": {},
   "outputs": [
    {
     "ename": "ModuleNotFoundError",
     "evalue": "No module named 'pyspark'",
     "output_type": "error",
     "traceback": [
      "\u001b[31m---------------------------------------------------------------------------\u001b[39m",
      "\u001b[31mModuleNotFoundError\u001b[39m                       Traceback (most recent call last)",
      "\u001b[36mCell\u001b[39m\u001b[36m \u001b[39m\u001b[32mIn[3]\u001b[39m\u001b[32m, line 2\u001b[39m\n\u001b[32m      1\u001b[39m \u001b[38;5;66;03m# Databricks notebook\u001b[39;00m\n\u001b[32m----> \u001b[39m\u001b[32m2\u001b[39m \u001b[38;5;28;01mfrom\u001b[39;00m\u001b[38;5;250m \u001b[39m\u001b[34;01mpyspark\u001b[39;00m\u001b[34;01m.\u001b[39;00m\u001b[34;01msql\u001b[39;00m\u001b[38;5;250m \u001b[39m\u001b[38;5;28;01mimport\u001b[39;00m Row\n\u001b[32m      3\u001b[39m \u001b[38;5;28;01mimport\u001b[39;00m\u001b[38;5;250m \u001b[39m\u001b[34;01mjson\u001b[39;00m\n\u001b[32m      4\u001b[39m \u001b[38;5;28;01mfrom\u001b[39;00m\u001b[38;5;250m \u001b[39m\u001b[34;01msrc\u001b[39;00m\u001b[34;01m.\u001b[39;00m\u001b[34;01mapi_client\u001b[39;00m\u001b[38;5;250m \u001b[39m\u001b[38;5;28;01mimport\u001b[39;00m fetch_opensky_states\n",
      "\u001b[31mModuleNotFoundError\u001b[39m: No module named 'pyspark'"
     ]
    }
   ],
   "source": [
    "# Databricks notebook\n",
    "from pyspark.sql import Row\n",
    "import json\n",
    "from src.api_client import fetch_opensky_states\n",
    "\n",
    "# Leer configuración de paths\n",
    "import json\n",
    "with open(\"../configs/paths.json\") as f:\n",
    "    paths = json.load(f)\n",
    "\n",
    "# Obtener datos de la API\n",
    "data = fetch_opensky_states()\n",
    "\n",
    "# Extraer campos\n",
    "fields = [\n",
    "    \"icao24\", \"callsign\", \"origin_country\", \"time_position\", \"last_contact\",\n",
    "    \"longitude\", \"latitude\", \"baro_altitude\", \"on_ground\", \"velocity\",\n",
    "    \"true_track\", \"vertical_rate\", \"sensors\", \"geo_altitude\", \"squawk\",\n",
    "    \"spi\", \"position_source\"\n",
    "]\n",
    "\n",
    "# Convertir a DataFrame de Spark\n",
    "rows = [Row(**dict(zip(fields, state))) for state in data[\"states\"]]\n",
    "df = spark.createDataFrame(rows)\n",
    "\n",
    "# Guardar en Delta (Bronze Layer)\n",
    "df.write.format(\"delta\").mode(\"append\").save(paths[\"bronze_path\"])\n",
    "\n",
    "display(df.limit(10))\n"
   ]
  }
 ],
 "metadata": {
  "kernelspec": {
   "display_name": "Python 3",
   "language": "python",
   "name": "python3"
  },
  "language_info": {
   "codemirror_mode": {
    "name": "ipython",
    "version": 3
   },
   "file_extension": ".py",
   "mimetype": "text/x-python",
   "name": "python",
   "nbconvert_exporter": "python",
   "pygments_lexer": "ipython3",
   "version": "3.11.9"
  }
 },
 "nbformat": 4,
 "nbformat_minor": 5
}
