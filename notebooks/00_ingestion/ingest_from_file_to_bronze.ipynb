{
 "cells": [
  {
   "cell_type": "code",
   "execution_count": 0,
   "metadata": {
    "application/vnd.databricks.v1+cell": {
     "cellMetadata": {
      "byteLimit": 2048000,
      "rowLimit": 10000
     },
     "inputWidgets": {},
     "nuid": "78294e73-36d5-4642-9373-466176b7dd40",
     "showTitle": false,
     "tableResultSettingsMap": {},
     "title": ""
    }
   },
   "outputs": [],
   "source": [
    "# Databricks notebook: Ingesta desde volumen Unity Catalog a capa Bronze\n",
    "\n",
    "# -----------------------------------------------\n",
    "# 1. Ruta del archivo JSON cargado en volumen\n",
    "# -----------------------------------------------\n",
    "file_path = \"/Volumes/workspace/default/opensky_data/opensky_raw_20250616.json\"\n",
    "\n",
    "# -----------------------------------------------\n",
    "# 2. Lectura del archivo JSON\n",
    "# -----------------------------------------------\n",
    "df_raw = spark.read.option(\"multiline\", \"true\").json(file_path)\n",
    "\n",
    "# Mostrar estructura\n",
    "print(\"📑 Esquema del archivo:\")\n",
    "df_raw.printSchema()\n",
    "\n",
    "# Vista previa\n",
    "print(\"👁 Vista previa de los datos:\")\n",
    "display(df_raw)\n",
    "\n",
    "# -----------------------------------------------\n",
    "# 3. Guardar como tabla Delta en Unity Catalog (capa Bronze)\n",
    "# -----------------------------------------------\n",
    "bronze_table_name = \"default.bronze_opensky\"\n",
    "\n",
    "df_raw.write.format(\"delta\").mode(\"overwrite\").saveAsTable(bronze_table_name)\n",
    "\n",
    "print(f\"✅ Archivo JSON cargado exitosamente como tabla Bronze: {bronze_table_name}\")\n"
   ]
  }
 ],
 "metadata": {
  "application/vnd.databricks.v1+notebook": {
   "computePreferences": null,
   "dashboards": [],
   "environmentMetadata": {
    "base_environment": "",
    "environment_version": "2"
   },
   "inputWidgetPreferences": null,
   "language": "python",
   "notebookMetadata": {
    "mostRecentlyExecutedCommandWithImplicitDF": {
     "commandId": 6355420021408858,
     "dataframes": [
      "_sqldf"
     ]
    },
    "pythonIndentUnit": 4
   },
   "notebookName": "ingest_from_file_to_bronze",
   "widgets": {
    "upload": {
     "currentValue": "",
     "nuid": "ac61e0e2-17fd-44e5-a40a-c1dd9f128ce7",
     "typedWidgetInfo": {
      "autoCreated": false,
      "defaultValue": "",
      "label": null,
      "name": "upload",
      "options": {
       "widgetDisplayType": "Text",
       "validationRegex": null
      },
      "parameterDataType": "String"
     },
     "widgetInfo": {
      "widgetType": "text",
      "defaultValue": "",
      "label": null,
      "name": "upload",
      "options": {
       "widgetType": "text",
       "autoCreated": false,
       "validationRegex": null
      }
     }
    }
   }
  },
  "language_info": {
   "name": "python"
  }
 },
 "nbformat": 4,
 "nbformat_minor": 0
}
