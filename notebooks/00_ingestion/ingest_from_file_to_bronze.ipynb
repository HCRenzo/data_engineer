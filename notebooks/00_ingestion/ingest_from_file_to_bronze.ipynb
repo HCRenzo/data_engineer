{
 "cells": [
  {
   "cell_type": "code",
   "execution_count": 0,
   "metadata": {
    "application/vnd.databricks.v1+cell": {
     "cellMetadata": {
      "byteLimit": 2048000,
      "rowLimit": 10000
     },
     "inputWidgets": {},
     "nuid": "78294e73-36d5-4642-9373-466176b7dd40",
     "showTitle": false,
     "tableResultSettingsMap": {},
     "title": ""
    }
   },
   "outputs": [],
   "source": [
    "# Ingestar archivo JSON manualmente subido desde VSCode\n",
    "from pyspark.sql.functions import input_file_name\n",
    "\n",
    "# Ruta al archivo subido (asegúrate que coincida con lo que subiste)\n",
    "file_path = \"/FileStore/tables/opensky_raw_20250616.json\"\n",
    "\n",
    "# Leer el archivo JSON con múltiples líneas\n",
    "df_raw = spark.read.option(\"multiline\", \"true\").json(file_path)\n",
    "\n",
    "# Mostrar schema y vista previa\n",
    "df_raw.printSchema()\n",
    "display(df_raw)\n",
    "\n",
    "# Guardar en capa Bronze\n",
    "df_raw.write.format(\"delta\").mode(\"overwrite\").save(\"/mnt/datalake/bronze/opensky/\")\n",
    "\n",
    "print(\"✅ Archivo cargado a capa Bronze con éxito\")\n"
   ]
  }
 ],
 "metadata": {
  "application/vnd.databricks.v1+notebook": {
   "computePreferences": null,
   "dashboards": [],
   "environmentMetadata": {
    "base_environment": "",
    "environment_version": "2"
   },
   "inputWidgetPreferences": null,
   "language": "python",
   "notebookMetadata": {
    "pythonIndentUnit": 4
   },
   "notebookName": "ingest_from_file_to_bronze",
   "widgets": {}
  },
  "language_info": {
   "name": "python"
  }
 },
 "nbformat": 4,
 "nbformat_minor": 0
}
