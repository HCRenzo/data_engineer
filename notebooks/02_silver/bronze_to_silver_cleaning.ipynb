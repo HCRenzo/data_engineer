{
 "cells": [
  {
   "cell_type": "code",
   "execution_count": 0,
   "metadata": {
    "application/vnd.databricks.v1+cell": {
     "cellMetadata": {
      "byteLimit": 2048000,
      "rowLimit": 10000
     },
     "inputWidgets": {},
     "nuid": "72c39ce5-51fa-4a0b-a5bf-48654523218f",
     "showTitle": false,
     "tableResultSettingsMap": {},
     "title": ""
    }
   },
   "outputs": [],
   "source": [
    "# Databricks notebook: Limpieza de tabla Bronze y guardado en capa Silver\n",
    "\n",
    "from pyspark.sql.functions import col, explode\n",
    "from pyspark.sql.types import StructType, StructField, StringType, LongType, DoubleType, BooleanType\n",
    "\n",
    "# 1. Leer la tabla Bronze\n",
    "df_bronze = spark.table(\"default.bronze_opensky\")\n",
    "\n",
    "# 2. Explode del array \"states\"\n",
    "df_exploded = df_bronze.selectExpr(\"time\", \"explode(states) as state\")\n",
    "\n",
    "# 3. Definir nombres de columnas según documentación OpenSky\n",
    "fields = [\n",
    "    \"icao24\", \"callsign\", \"origin_country\", \"time_position\", \"last_contact\", \"longitude\",\n",
    "    \"latitude\", \"baro_altitude\", \"on_ground\", \"velocity\", \"true_track\", \"vertical_rate\",\n",
    "    \"sensors\", \"geo_altitude\", \"squawk\", \"spi\", \"position_source\"\n",
    "]\n",
    "\n",
    "# 4. Mapear los valores de la lista a columnas nombradas\n",
    "df_silver = df_exploded.select(\n",
    "    col(\"time\").alias(\"snapshot_time\"),\n",
    "    *[col(\"state\")[i].cast(\"string\").alias(fields[i]) for i in range(len(fields))]\n",
    ")\n",
    "\n",
    "# 5. Conversión de tipos (solo algunos como ejemplo)\n",
    "df_silver = df_silver.select(\n",
    "    col(\"snapshot_time\").cast(\"long\"),\n",
    "    col(\"icao24\"),\n",
    "    col(\"callsign\"),\n",
    "    col(\"origin_country\"),\n",
    "    col(\"time_position\").cast(\"long\"),\n",
    "    col(\"last_contact\").cast(\"long\"),\n",
    "    col(\"longitude\").cast(\"double\"),\n",
    "    col(\"latitude\").cast(\"double\"),\n",
    "    col(\"baro_altitude\").cast(\"double\"),\n",
    "    col(\"on_ground\").cast(\"boolean\"),\n",
    "    col(\"velocity\").cast(\"double\"),\n",
    "    col(\"true_track\").cast(\"double\"),\n",
    "    col(\"vertical_rate\").cast(\"double\"),\n",
    "    col(\"geo_altitude\").cast(\"double\"),\n",
    "    col(\"squawk\"),\n",
    "    col(\"spi\").cast(\"boolean\"),\n",
    "    col(\"position_source\").cast(\"int\")\n",
    ")\n",
    "\n",
    "# 6. Guardar en tabla Delta: capa Silver\n",
    "df_silver.write.format(\"delta\").mode(\"overwrite\").saveAsTable(\"default.silver_opensky\")\n",
    "\n",
    "print(\"✅ Datos transformados y guardados en tabla default.silver_opensky\")\n"
   ]
  }
 ],
 "metadata": {
  "application/vnd.databricks.v1+notebook": {
   "computePreferences": null,
   "dashboards": [],
   "environmentMetadata": {
    "base_environment": "",
    "environment_version": "2"
   },
   "inputWidgetPreferences": null,
   "language": "python",
   "notebookMetadata": {
    "pythonIndentUnit": 4
   },
   "notebookName": "bronze_to_silver_cleaning",
   "widgets": {}
  },
  "language_info": {
   "name": "python"
  }
 },
 "nbformat": 4,
 "nbformat_minor": 0
}
