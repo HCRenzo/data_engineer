{
 "cells": [
  {
   "cell_type": "code",
   "execution_count": 0,
   "metadata": {
    "application/vnd.databricks.v1+cell": {
     "cellMetadata": {
      "byteLimit": 2048000,
      "rowLimit": 10000
     },
     "inputWidgets": {},
     "nuid": "4d86c911-8b8d-43ad-b327-2e4aac1c1dab",
     "showTitle": false,
     "tableResultSettingsMap": {},
     "title": ""
    }
   },
   "outputs": [],
   "source": [
    "# Databricks notebook: Agregaciones y métricas Gold para OpenSky\n",
    "\n",
    "from pyspark.sql.functions import avg, count, col, round, desc\n",
    "\n",
    "# 1. Cargar datos desde Silver\n",
    "df_silver = spark.table(\"default.silver_opensky\")\n",
    "\n",
    "# ========================================================\n",
    "# 2. Tabla: Altitud promedio por país\n",
    "# ========================================================\n",
    "df_altitude = df_silver.groupBy(\"origin_country\") \\\n",
    "    .agg(round(avg(\"geo_altitude\"), 2).alias(\"avg_geo_altitude\")) \\\n",
    "    .orderBy(desc(\"avg_geo_altitude\"))\n",
    "\n",
    "df_altitude.write.format(\"delta\").mode(\"overwrite\").saveAsTable(\"default.gold_avg_altitude\")\n",
    "print(\"✅ Tabla creada: default.gold_avg_altitude\")\n",
    "\n",
    "# ========================================================\n",
    "# 3. Tabla: Velocidad promedio por país\n",
    "# ========================================================\n",
    "df_velocity = df_silver.groupBy(\"origin_country\") \\\n",
    "    .agg(round(avg(\"velocity\"), 2).alias(\"avg_velocity\")) \\\n",
    "    .orderBy(desc(\"avg_velocity\"))\n",
    "\n",
    "df_velocity.write.format(\"delta\").mode(\"overwrite\").saveAsTable(\"default.gold_velocity_by_country\")\n",
    "print(\"✅ Tabla creada: default.gold_velocity_by_country\")\n",
    "\n",
    "# ========================================================\n",
    "# 4. Tabla: Número de vuelos en el aire vs en tierra por país\n",
    "# ========================================================\n",
    "df_airborne = df_silver.groupBy(\"origin_country\", \"on_ground\") \\\n",
    "    .count() \\\n",
    "    .orderBy(desc(\"count\"))\n",
    "\n",
    "df_airborne.write.format(\"delta\").mode(\"overwrite\").saveAsTable(\"default.gold_airborne_distribution\")\n",
    "print(\"✅ Tabla creada: default.gold_airborne_distribution\")\n",
    "\n",
    "# ========================================================\n",
    "# 5. Tabla: Número total de vuelos por país\n",
    "# ========================================================\n",
    "df_total_flights = df_silver.groupBy(\"origin_country\") \\\n",
    "    .count() \\\n",
    "    .orderBy(desc(\"count\"))\n",
    "\n",
    "df_total_flights.write.format(\"delta\").mode(\"overwrite\").saveAsTable(\"default.gold_total_flights\")\n",
    "print(\"✅ Tabla creada: default.gold_total_flights\")\n",
    "\n",
    "# ========================================================\n",
    "# 6. Tabla: Top 10 altitudes individuales más altas\n",
    "# ========================================================\n",
    "df_top_altitudes = df_silver.select(\"callsign\", \"origin_country\", \"geo_altitude\") \\\n",
    "    .where(col(\"geo_altitude\").isNotNull()) \\\n",
    "    .orderBy(desc(\"geo_altitude\")) \\\n",
    "    .limit(10)\n",
    "\n",
    "df_top_altitudes.write.format(\"delta\").mode(\"overwrite\").saveAsTable(\"default.gold_top_altitudes\")\n",
    "print(\"✅ Tabla creada: default.gold_top_altitudes\")\n",
    "\n",
    "# ========================================================\n",
    "# 7. Tabla: Promedio por país de vuelos que están en el aire\n",
    "# ========================================================\n",
    "df_avg_airborne = df_silver.filter(\"on_ground = false\") \\\n",
    "    .groupBy(\"origin_country\") \\\n",
    "    .agg(round(avg(\"geo_altitude\"), 2).alias(\"avg_altitude_airborne\"),\n",
    "         round(avg(\"velocity\"), 2).alias(\"avg_velocity_airborne\")) \\\n",
    "    .orderBy(desc(\"avg_altitude_airborne\"))\n",
    "\n",
    "df_avg_airborne.write.format(\"delta\").mode(\"overwrite\").saveAsTable(\"default.gold_avg_airborne_stats\")\n",
    "print(\"✅ Tabla creada: default.gold_avg_airborne_stats\")\n"
   ]
  }
 ],
 "metadata": {
  "application/vnd.databricks.v1+notebook": {
   "computePreferences": null,
   "dashboards": [],
   "environmentMetadata": {
    "base_environment": "",
    "environment_version": "2"
   },
   "inputWidgetPreferences": null,
   "language": "python",
   "notebookMetadata": {
    "pythonIndentUnit": 4
   },
   "notebookName": "create_gold_tables",
   "widgets": {}
  },
  "language_info": {
   "name": "python"
  }
 },
 "nbformat": 4,
 "nbformat_minor": 0
}
