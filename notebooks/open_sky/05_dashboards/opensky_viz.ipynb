{
 "cells": [
  {
   "cell_type": "code",
   "execution_count": 0,
   "metadata": {
    "application/vnd.databricks.v1+cell": {
     "cellMetadata": {
      "byteLimit": 2048000,
      "rowLimit": 10000
     },
     "inputWidgets": {},
     "nuid": "518d0951-a6bc-4a6a-8384-5e4825c7168e",
     "showTitle": false,
     "tableResultSettingsMap": {},
     "title": ""
    }
   },
   "outputs": [],
   "source": [
    "# Databricks notebook: Visualización de métricas Gold - OpenSky\n",
    "\n",
    "# =========================================================\n",
    "# 1. Altitud promedio por país\n",
    "# =========================================================\n",
    "df_altitude = spark.table(\"default.gold_avg_altitude\")\n",
    "display(df_altitude.orderBy(\"avg_geo_altitude\", ascending=False))\n",
    "\n",
    "# 🔧 Visualiza como: Bar chart\n",
    "# - Keys: origin_country\n",
    "# - Values: avg_geo_altitude\n",
    "\n",
    "# =========================================================\n",
    "# 2. Velocidad promedio por país\n",
    "# =========================================================\n",
    "df_velocity = spark.table(\"default.gold_velocity_by_country\")\n",
    "display(df_velocity.orderBy(\"avg_velocity\", ascending=False))\n",
    "\n",
    "# 🔧 Visualiza como: Horizontal bar chart\n",
    "# - Keys: origin_country\n",
    "# - Values: avg_velocity\n",
    "\n",
    "# =========================================================\n",
    "# 3. Total de vuelos por país\n",
    "# =========================================================\n",
    "df_total = spark.table(\"default.gold_total_flights\")\n",
    "display(df_total.orderBy(\"count\", ascending=False))\n",
    "\n",
    "# 🔧 Visualiza como: Column chart o Pie chart\n",
    "# - Keys: origin_country\n",
    "# - Values: count\n",
    "\n",
    "# =========================================================\n",
    "# 4. Distribución de vuelos en tierra vs en aire\n",
    "# =========================================================\n",
    "df_airborne = spark.table(\"default.gold_airborne_distribution\")\n",
    "display(df_airborne)\n",
    "\n",
    "# 🔧 Visualiza como: Stacked bar chart\n",
    "# - Keys: origin_country\n",
    "# - Series: on_ground\n",
    "# - Values: count\n",
    "\n",
    "# =========================================================\n",
    "# 5. Promedios de vuelos en el aire\n",
    "# =========================================================\n",
    "df_airborne_stats = spark.table(\"default.gold_avg_airborne_stats\")\n",
    "display(df_airborne_stats.orderBy(\"avg_altitude_airborne\", ascending=False))\n",
    "\n",
    "# 🔧 Visualiza como: Dual column chart\n",
    "# - Keys: origin_country\n",
    "# - Values: avg_altitude_airborne, avg_velocity_airborne\n",
    "\n",
    "# =========================================================\n",
    "# 6. Top 10 vuelos con mayor altitud\n",
    "# =========================================================\n",
    "df_top_alt = spark.table(\"default.gold_top_altitudes\")\n",
    "display(df_top_alt)\n",
    "\n",
    "# 🔧 Visualiza como: Table o column chart (callsign vs geo_altitude)\n"
   ]
  }
 ],
 "metadata": {
  "application/vnd.databricks.v1+notebook": {
   "computePreferences": null,
   "dashboards": [],
   "environmentMetadata": {
    "base_environment": "",
    "environment_version": "2"
   },
   "inputWidgetPreferences": null,
   "language": "python",
   "notebookMetadata": {
    "pythonIndentUnit": 4
   },
   "notebookName": "opensky_viz",
   "widgets": {}
  },
  "language_info": {
   "name": "python"
  }
 },
 "nbformat": 4,
 "nbformat_minor": 0
}
