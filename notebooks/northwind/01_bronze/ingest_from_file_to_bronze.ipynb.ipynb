{
 "cells": [
  {
   "cell_type": "code",
   "execution_count": 0,
   "metadata": {
    "application/vnd.databricks.v1+cell": {
     "cellMetadata": {
      "byteLimit": 2048000,
      "rowLimit": 10000
     },
     "inputWidgets": {},
     "nuid": "df605681-6e1f-4d90-9ccc-5c8bebfdf530",
     "showTitle": false,
     "tableResultSettingsMap": {},
     "title": ""
    }
   },
   "outputs": [],
   "source": [
    "%pip install python-dotenv"
   ]
  },
  {
   "cell_type": "code",
   "execution_count": 0,
   "metadata": {
    "application/vnd.databricks.v1+cell": {
     "cellMetadata": {
      "byteLimit": 2048000,
      "rowLimit": 10000
     },
     "inputWidgets": {},
     "nuid": "4275de2a-7231-441a-873c-7581179504f0",
     "showTitle": false,
     "tableResultSettingsMap": {},
     "title": ""
    }
   },
   "outputs": [],
   "source": [
    "# ============================================\n",
    "# BRONZE INGESTA - NORTHWIND (CSV + overwriteSchema)\n",
    "# ============================================\n",
    "\n",
    "from datetime import datetime\n",
    "from dotenv import load_dotenv\n",
    "import os\n",
    "import pandas as pd\n",
    "\n",
    "# --------------------------------------------\n",
    "# CONFIGURACIÓN\n",
    "# --------------------------------------------\n",
    "catalog = \"northwind\"\n",
    "schema = \"bronze\"\n",
    "\n",
    "# Cargar el .env\n",
    "load_dotenv(\"/Workspace/Users/renzo_hc@outlook.com/data_engineer/.env\")\n",
    "\n",
    "spark.sql(f\"USE CATALOG {catalog}\")\n",
    "spark.sql(f\"USE SCHEMA {schema}\")\n",
    "\n",
    "base_url = os.getenv(\"BASE_URL_NORTHWIND\")\n",
    "\n",
    "# --------------------------------------------\n",
    "# ARCHIVOS CSV (NOMBRES CORRECTOS)\n",
    "# --------------------------------------------\n",
    "tables = [\n",
    "    \"categories\",\n",
    "    \"customers\",\n",
    "    \"employee_territories\",\n",
    "    \"employees\",\n",
    "    \"order_details\",\n",
    "    \"orders\",\n",
    "    \"products\",\n",
    "    \"regions\",\n",
    "    \"shippers\",\n",
    "    \"suppliers\",\n",
    "    \"territories\"\n",
    "]\n",
    "\n",
    "# --------------------------------------------\n",
    "# INGESTA DE ARCHIVOS CSV\n",
    "# --------------------------------------------\n",
    "for table in tables:\n",
    "    try:\n",
    "        print(f\"📥 Descargando CSV: {table}\")\n",
    "        url = f\"{base_url}{table}.csv\"\n",
    "\n",
    "        # Descargar CSV en pandas\n",
    "        df_pd = pd.read_csv(url)\n",
    "\n",
    "        # Agregar columna de metadato\n",
    "        fecha_ingesta = datetime.utcnow().strftime(\"%Y-%m-%d %H:%M:%S\")\n",
    "        df_pd[\"fecha_ingesta\"] = fecha_ingesta\n",
    "\n",
    "        # Convertir a Spark DataFrame\n",
    "        df_spark = spark.createDataFrame(df_pd)\n",
    "\n",
    "        # Guardar como tabla Delta en Bronze, con overwriteSchema habilitado\n",
    "        delta_table = f\"{schema}.{table}\"\n",
    "        df_spark.write \\\n",
    "            .option(\"overwriteSchema\", \"true\") \\\n",
    "            .mode(\"overwrite\") \\\n",
    "            .format(\"delta\") \\\n",
    "            .saveAsTable(delta_table)\n",
    "        \n",
    "        print(f\"✅ Bronze Table creada: {delta_table}\")\n",
    "\n",
    "    except Exception as e:\n",
    "        print(f\"⚠️ Error procesando {table}: {e}\")\n",
    "\n",
    "print(\"🚀 Ingesta Bronze desde CSV completa ✅\")\n"
   ]
  }
 ],
 "metadata": {
  "application/vnd.databricks.v1+notebook": {
   "computePreferences": null,
   "dashboards": [],
   "environmentMetadata": {
    "base_environment": "",
    "environment_version": "2"
   },
   "inputWidgetPreferences": null,
   "language": "python",
   "notebookMetadata": {
    "pythonIndentUnit": 4
   },
   "notebookName": "ingest_from_file_to_bronze.ipynb",
   "widgets": {}
  },
  "language_info": {
   "name": "python"
  }
 },
 "nbformat": 4,
 "nbformat_minor": 0
}
