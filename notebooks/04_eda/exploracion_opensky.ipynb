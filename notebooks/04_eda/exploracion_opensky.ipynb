{
 "cells": [
  {
   "cell_type": "code",
   "execution_count": 0,
   "metadata": {
    "application/vnd.databricks.v1+cell": {
     "cellMetadata": {
      "byteLimit": 2048000,
      "rowLimit": 10000
     },
     "inputWidgets": {},
     "nuid": "b2e1d4c7-6315-40e2-960f-daaccae660eb",
     "showTitle": false,
     "tableResultSettingsMap": {},
     "title": ""
    }
   },
   "outputs": [],
   "source": [
    "# Databricks notebook: Exploración de datos OpenSky (EDA)\n",
    "\n",
    "from pyspark.sql.functions import col, desc, round, countDistinct, avg\n",
    "\n",
    "# 1. Cargar la tabla limpia desde Silver\n",
    "df = spark.table(\"default.silver_opensky\")\n",
    "\n",
    "# 2. Vista previa general\n",
    "print(\"👁 Vista general de los datos:\")\n",
    "display(df.limit(20))\n",
    "\n",
    "# 3. Total de registros\n",
    "print(f\"📊 Total de registros: {df.count()}\")\n",
    "\n",
    "# 4. ¿Cuántos países distintos hay?\n",
    "print(\"🌍 Países distintos:\")\n",
    "df.select(\"origin_country\").distinct().show(truncate=False)\n",
    "\n",
    "# 5. Número de vuelos por país\n",
    "print(\"🛫 Número de vuelos por país:\")\n",
    "df.groupBy(\"origin_country\").count().orderBy(desc(\"count\")).show(10)\n",
    "\n",
    "# 6. Altitud promedio por país\n",
    "print(\"📈 Altitud promedio por país (geo_altitude):\")\n",
    "df.groupBy(\"origin_country\").agg(round(avg(\"geo_altitude\"), 2).alias(\"avg_altitude\"))\\\n",
    "  .orderBy(desc(\"avg_altitude\")).show(10)\n",
    "\n",
    "# 7. Velocidad promedio por país\n",
    "print(\"🚀 Velocidad promedio por país (velocity):\")\n",
    "df.groupBy(\"origin_country\").agg(round(avg(\"velocity\"), 2).alias(\"avg_velocity\"))\\\n",
    "  .orderBy(desc(\"avg_velocity\")).show(10)\n",
    "\n",
    "# 8. ¿Cuántos vuelos están en tierra vs en el aire?\n",
    "print(\"✈️ Estado del vuelo:\")\n",
    "df.groupBy(\"on_ground\").count().show()\n",
    "\n",
    "# 9. Distribución de altitud\n",
    "print(\"📊 Distribución de geo_altitude (histograma aprox):\")\n",
    "display(df.select(\"geo_altitude\"))\n",
    "\n",
    "# 10. Datos nulos por columna\n",
    "print(\"🔍 Conteo de valores nulos por columna:\")\n",
    "from pyspark.sql.functions import isnan, when, count\n",
    "\n",
    "df.select([\n",
    "    count(when(col(c).isNull(), c)).alias(c)\n",
    "    for c in df.columns\n",
    "]).show()\n"
   ]
  }
 ],
 "metadata": {
  "application/vnd.databricks.v1+notebook": {
   "computePreferences": null,
   "dashboards": [],
   "environmentMetadata": {
    "base_environment": "",
    "environment_version": "2"
   },
   "inputWidgetPreferences": null,
   "language": "python",
   "notebookMetadata": {
    "pythonIndentUnit": 4
   },
   "notebookName": "exploracion_opensky",
   "widgets": {}
  },
  "language_info": {
   "name": "python"
  }
 },
 "nbformat": 4,
 "nbformat_minor": 0
}
