{
 "cells": [
  {
   "cell_type": "code",
   "execution_count": 0,
   "metadata": {
    "application/vnd.databricks.v1+cell": {
     "cellMetadata": {
      "byteLimit": 2048000,
      "rowLimit": 10000
     },
     "inputWidgets": {},
     "nuid": "f668af0e-5c05-49f3-ae2b-1dee938d5fb0",
     "showTitle": false,
     "tableResultSettingsMap": {},
     "title": ""
    }
   },
   "outputs": [],
   "source": [
    "%pip install python-dotenv"
   ]
  },
  {
   "cell_type": "code",
   "execution_count": 0,
   "metadata": {
    "application/vnd.databricks.v1+cell": {
     "cellMetadata": {
      "byteLimit": 2048000,
      "rowLimit": 10000
     },
     "inputWidgets": {},
     "nuid": "542db612-71a9-4b09-88dc-6c6991a20c87",
     "showTitle": false,
     "tableResultSettingsMap": {},
     "title": ""
    }
   },
   "outputs": [],
   "source": [
    "# Librerías\n",
    "import requests\n",
    "import pandas as pd\n",
    "import os\n",
    "\n",
    "from dotenv import load_dotenv\n",
    "\n",
    "# Cargar el .env\n",
    "load_dotenv(\"/Workspace/Users/renzo_hc@outlook.com/data_engineer/.env\")\n",
    "\n",
    "# ✅ 1. Llamar a la API\n",
    "api_url = os.getenv(\"BASE_API_USEREVENTS\")\n",
    "response = requests.get(api_url)\n",
    "data = response.json()\n",
    "items = data.get('items', [])\n",
    "\n",
    "# ✅ 2. DataFrame pandas\n",
    "df_pd = pd.DataFrame(items)\n",
    "\n",
    "# ✅ 3. Convertir a Spark DataFrame\n",
    "df_spark = spark.createDataFrame(df_pd)\n",
    "\n",
    "# ✅ Verificar datos\n",
    "display(df_spark)\n",
    "\n",
    "# ✅ Seleccionar el catálogo\n",
    "spark.sql(\"USE CATALOG users_events\")\n",
    "spark.sql(\"USE SCHEMA bronze\")\n",
    "\n",
    "# ✅ Guardar la tabla raw\n",
    "df_spark.write.mode(\"overwrite\").saveAsTable(\"users_events_bronze\")\n",
    "\n",
    "print(\"✅ Datos guardados en users_events.bronze.users_events_bronze\")"
   ]
  }
 ],
 "metadata": {
  "application/vnd.databricks.v1+notebook": {
   "computePreferences": null,
   "dashboards": [],
   "environmentMetadata": {
    "base_environment": "",
    "environment_version": "2"
   },
   "inputWidgetPreferences": null,
   "language": "python",
   "notebookMetadata": {
    "pythonIndentUnit": 4
   },
   "notebookName": "01_bronze",
   "widgets": {}
  },
  "language_info": {
   "name": "python"
  }
 },
 "nbformat": 4,
 "nbformat_minor": 0
}
