{
 "cells": [
  {
   "cell_type": "code",
   "execution_count": 0,
   "metadata": {
    "application/vnd.databricks.v1+cell": {
     "cellMetadata": {
      "byteLimit": 2048000,
      "rowLimit": 10000
     },
     "inputWidgets": {},
     "nuid": "a6de760f-3b3d-44f7-a07c-30eeee1dc760",
     "showTitle": false,
     "tableResultSettingsMap": {},
     "title": ""
    }
   },
   "outputs": [],
   "source": [
    "from pyspark.sql.functions import from_json, col\n",
    "from pyspark.sql.types import StructType, StructField, StringType\n",
    "\n",
    "# ✅ Definir el esquema del campo metadata\n",
    "metadata_schema = StructType([\n",
    "    StructField(\"button_id\", StringType(), True),\n",
    "    StructField(\"page\", StringType(), True)\n",
    "])\n",
    "\n",
    "# ✅ Leer desde Bronze\n",
    "df_bronze = spark.table(\"users_events.bronze.users_events_bronze\")\n",
    "display(df_bronze)\n",
    "\n",
    "# ✅ Parsear la columna metadata\n",
    "df_silver = df_bronze.withColumn(\n",
    "    \"metadata_parsed\", from_json(\"metadata\", metadata_schema)\n",
    ").select(\n",
    "    \"user_id\",\n",
    "    \"event_timestamp\",\n",
    "    \"event_type\",\n",
    "    \"session_id\",\n",
    "    \"device\",\n",
    "    col(\"metadata_parsed.button_id\").alias(\"button_id\"),\n",
    "    col(\"metadata_parsed.page\").alias(\"page\")\n",
    ")\n",
    "\n",
    "# ✅ Ver datos transformados\n",
    "display(df_silver)\n",
    "\n",
    "# ✅ Cambiar al esquema silver\n",
    "spark.sql(\"USE CATALOG users_events\")\n",
    "spark.sql(\"USE SCHEMA silver\")\n",
    "\n",
    "# ✅ Guardar tabla limpia\n",
    "df_silver.write.mode(\"overwrite\").saveAsTable(\"users_events_silver\")\n",
    "\n",
    "print(\"✅ Datos guardados en users_events.silver.users_events_silver\")\n",
    "\n"
   ]
  }
 ],
 "metadata": {
  "application/vnd.databricks.v1+notebook": {
   "computePreferences": null,
   "dashboards": [],
   "environmentMetadata": {
    "base_environment": "",
    "environment_version": "2"
   },
   "inputWidgetPreferences": null,
   "language": "python",
   "notebookMetadata": {
    "pythonIndentUnit": 4
   },
   "notebookName": "02_silver",
   "widgets": {}
  },
  "language_info": {
   "name": "python"
  }
 },
 "nbformat": 4,
 "nbformat_minor": 0
}
