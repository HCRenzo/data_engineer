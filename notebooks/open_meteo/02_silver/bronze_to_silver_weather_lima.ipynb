{
 "cells": [
  {
   "cell_type": "code",
   "execution_count": 0,
   "metadata": {
    "application/vnd.databricks.v1+cell": {
     "cellMetadata": {
      "byteLimit": 2048000,
      "rowLimit": 10000
     },
     "inputWidgets": {},
     "nuid": "00d1743a-5472-4023-a503-dbf7489b3530",
     "showTitle": false,
     "tableResultSettingsMap": {},
     "title": ""
    }
   },
   "outputs": [],
   "source": [
    "from pyspark.sql.functions import col, to_date\n",
    "from pyspark.sql.types import DateType\n",
    "\n",
    "# Tablas\n",
    "tabla_bronze = \"main.weather.bronze_distritos_diarios\"\n",
    "tabla_silver = \"main.weather.silver_distritos_diarios\"\n",
    "\n",
    "# Leer Bronze\n",
    "df_bronze = spark.table(tabla_bronze).withColumn(\"fecha\", to_date(col(\"fecha\"), \"yyyy-MM-dd\"))\n",
    "\n",
    "# Eliminar duplicados por clave natural\n",
    "df_bronze = df_bronze.dropDuplicates([\"distrito\", \"fecha\"])\n",
    "\n",
    "# Verificar existencia de tabla Silver\n",
    "if spark.catalog.tableExists(tabla_silver):\n",
    "    df_silver = spark.table(tabla_silver)\n",
    "\n",
    "    # Detectar nuevos registros por combinación clave (distrito, fecha)\n",
    "    df_nuevos = df_bronze.join(df_silver, [\"distrito\", \"fecha\"], \"left_anti\")\n",
    "else:\n",
    "    df_nuevos = df_bronze\n",
    "\n",
    "# Insertar nuevos datos si los hay\n",
    "if df_nuevos.count() > 0:\n",
    "    df_nuevos.write.format(\"delta\").mode(\"append\").saveAsTable(tabla_silver)\n",
    "    print(f\"✅ {df_nuevos.count()} nuevos registros insertados en Silver.\")\n",
    "else:\n",
    "    print(\"ℹ️ No se encontraron nuevos registros para insertar en Silver.\")\n"
   ]
  }
 ],
 "metadata": {
  "application/vnd.databricks.v1+notebook": {
   "computePreferences": null,
   "dashboards": [],
   "environmentMetadata": {
    "base_environment": "",
    "environment_version": "2"
   },
   "inputWidgetPreferences": null,
   "language": "python",
   "notebookMetadata": {
    "pythonIndentUnit": 4
   },
   "notebookName": "bronze_to_silver_weather_lima",
   "widgets": {}
  },
  "language_info": {
   "name": "python"
  }
 },
 "nbformat": 4,
 "nbformat_minor": 0
}
