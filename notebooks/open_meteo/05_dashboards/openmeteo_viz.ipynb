{
 "cells": [
  {
   "cell_type": "code",
   "execution_count": 0,
   "metadata": {
    "application/vnd.databricks.v1+cell": {
     "cellMetadata": {
      "byteLimit": 2048000,
      "rowLimit": 10000
     },
     "inputWidgets": {},
     "nuid": "51a40147-bd82-471e-9464-e658631dd907",
     "showTitle": false,
     "tableResultSettingsMap": {},
     "title": ""
    }
   },
   "outputs": [],
   "source": [
    "from pyspark.sql.functions import year, month, dayofmonth, avg, sum, col\n",
    "\n",
    "# Leer tabla Gold diaria\n",
    "df = spark.table(\"main.weather.gold_diaria\")\n",
    "\n",
    "# Temperatura promedio por distrito\n",
    "df_temp_avg = df.groupBy(\"distrito\").agg(avg(\"temperatura_maxima\").alias(\"avg_temp_max\"))\n",
    "\n",
    "display(df_temp_avg)  # Visualización: barras\n",
    "\n",
    "# Evolución diaria de temperatura en un distrito específico\n",
    "distrito_target = \"Miraflores\"\n",
    "df_temp_evol = df.filter(col(\"distrito\") == distrito_target).orderBy(\"fecha\")\n",
    "\n",
    "display(df_temp_evol.select(\"fecha\", \"temperatura_maxima\", \"temperatura_minima\"))  # Visualización: líneas\n",
    "\n",
    "# Precipitación acumulada por distrito\n",
    "df_precip_total = df.groupBy(\"distrito\").agg(sum(\"precipitacion_total\").alias(\"precip_total\"))\n",
    "\n",
    "display(df_precip_total)  # Visualización: barras\n",
    "\n",
    "# Distribución de temperatura máxima por distrito (boxplot en UI)\n",
    "display(df.select(\"distrito\", \"temperatura_maxima\"))  # Visualización: boxplot\n"
   ]
  }
 ],
 "metadata": {
  "application/vnd.databricks.v1+notebook": {
   "computePreferences": null,
   "dashboards": [],
   "environmentMetadata": {
    "base_environment": "",
    "environment_version": "2"
   },
   "inputWidgetPreferences": null,
   "language": "python",
   "notebookMetadata": {
    "pythonIndentUnit": 4
   },
   "notebookName": "openmeteo_viz",
   "widgets": {}
  },
  "language_info": {
   "name": "python"
  }
 },
 "nbformat": 4,
 "nbformat_minor": 0
}
