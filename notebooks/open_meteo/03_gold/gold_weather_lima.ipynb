{
 "cells": [
  {
   "cell_type": "code",
   "execution_count": 0,
   "metadata": {
    "application/vnd.databricks.v1+cell": {
     "cellMetadata": {
      "byteLimit": 2048000,
      "rowLimit": 10000
     },
     "inputWidgets": {},
     "nuid": "fdfb517c-9010-468d-a607-4a7a2b1f6738",
     "showTitle": false,
     "tableResultSettingsMap": {},
     "title": ""
    }
   },
   "outputs": [],
   "source": [
    "from pyspark.sql.functions import col, avg, min, max, year, month, dayofmonth, sum\n",
    "from pyspark.sql import functions as F\n",
    "\n",
    "# Leer datos de Silver\n",
    "df_bronze = spark.table(\"main.weather.silver_distritos_diarios\")\n",
    "\n",
    "# Conversión de fecha\n",
    "df = df_bronze.withColumn(\"fecha\", F.to_date(\"fecha\"))\n",
    "\n",
    "# Tabla Gold principal: Promedios por distrito y día\n",
    "gold_diaria = df.select(\n",
    "    \"distrito\", \"fecha\", \"temperatura_maxima\", \"temperatura_minima\", \"precipitacion_total\"\n",
    ")\n",
    "\n",
    "# Tabla Gold mensual: agregación por distrito y mes\n",
    "gold_mensual = df.groupBy(\n",
    "    \"distrito\",\n",
    "    year(\"fecha\").alias(\"anio\"),\n",
    "    month(\"fecha\").alias(\"mes\")\n",
    ").agg(\n",
    "    avg(\"temperatura_maxima\").alias(\"temp_max_promedio\"),\n",
    "    avg(\"temperatura_minima\").alias(\"temp_min_promedio\"),\n",
    "    sum(\"precipitacion_total\").alias(\"precipitacion_total_mes\")\n",
    ")\n",
    "\n",
    "# Persistimos como tablas Gold\n",
    "gold_diaria.write.format(\"delta\").mode(\"overwrite\").saveAsTable(\"main.weather.gold_diaria\")\n",
    "gold_mensual.write.format(\"delta\").mode(\"overwrite\").saveAsTable(\"main.weather.gold_mensual\")\n",
    "\n",
    "print(\"✅ Capas Gold generadas correctamente.\")\n"
   ]
  }
 ],
 "metadata": {
  "application/vnd.databricks.v1+notebook": {
   "computePreferences": null,
   "dashboards": [],
   "environmentMetadata": {
    "base_environment": "",
    "environment_version": "2"
   },
   "inputWidgetPreferences": null,
   "language": "python",
   "notebookMetadata": {
    "pythonIndentUnit": 4
   },
   "notebookName": "gold_weather_lima",
   "widgets": {}
  },
  "language_info": {
   "name": "python"
  }
 },
 "nbformat": 4,
 "nbformat_minor": 0
}
