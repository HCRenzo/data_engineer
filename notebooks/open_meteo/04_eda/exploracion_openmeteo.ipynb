{
 "cells": [
  {
   "cell_type": "code",
   "execution_count": 0,
   "metadata": {
    "application/vnd.databricks.v1+cell": {
     "cellMetadata": {
      "byteLimit": 2048000,
      "rowLimit": 10000
     },
     "inputWidgets": {},
     "nuid": "f9d4218a-b9a8-4c3b-88de-7a98888beca6",
     "showTitle": false,
     "tableResultSettingsMap": {},
     "title": ""
    }
   },
   "outputs": [],
   "source": [
    "from pyspark.sql.functions import year, month, dayofmonth, avg, max, min, count, col\n",
    "\n",
    "# Leer tabla Gold diaria\n",
    "weather_diaria = spark.table(\"weather_lima.gold_diaria\")\n",
    "\n",
    "# Mostrar esquema y primeras filas\n",
    "weather_diaria.printSchema()\n",
    "weather_diaria.show(5)\n",
    "\n",
    "# Análisis exploratorio básico\n",
    "print(\"\\nDistribución de registros por distrito:\")\n",
    "weather_diaria.groupBy(\"distrito\").count().orderBy(\"count\", ascending=False).show()\n",
    "\n",
    "print(\"\\nResumen de temperaturas máximas por distrito:\")\n",
    "weather_diaria.groupBy(\"distrito\").agg(\n",
    "    avg(\"temperatura_maxima\").alias(\"prom_temp_max\"),\n",
    "    max(\"temperatura_maxima\").alias(\"max_temp_max\"),\n",
    "    min(\"temperatura_maxima\").alias(\"min_temp_max\")\n",
    ").orderBy(\"prom_temp_max\", ascending=False).show()\n",
    "\n",
    "print(\"\\nResumen de precipitación total por distrito:\")\n",
    "weather_diaria.groupBy(\"distrito\").agg(\n",
    "    avg(\"precipitacion_total\").alias(\"prom_precipitacion\"),\n",
    "    max(\"precipitacion_total\").alias(\"max_precipitacion\"),\n",
    "    min(\"precipitacion_total\").alias(\"min_precipitacion\")\n",
    ").orderBy(\"prom_precipitacion\", ascending=False).show()\n",
    "\n",
    "print(\"\\nConteo de registros por año y mes:\")\n",
    "weather_diaria.withColumn(\"anio\", year(\"fecha\")).withColumn(\"mes\", month(\"fecha\")).groupBy(\"anio\", \"mes\").count().orderBy(\"anio\", \"mes\").show()\n",
    "\n",
    "print(\"\\nDistritos con más días con precipitación (> 0.1mm):\")\n",
    "weather_diaria.filter(col(\"precipitacion_total\") > 0.1).groupBy(\"distrito\").count().orderBy(\"count\", ascending=False).show()\n"
   ]
  }
 ],
 "metadata": {
  "application/vnd.databricks.v1+notebook": {
   "computePreferences": null,
   "dashboards": [],
   "environmentMetadata": {
    "base_environment": "",
    "environment_version": "2"
   },
   "inputWidgetPreferences": null,
   "language": "python",
   "notebookMetadata": {
    "pythonIndentUnit": 4
   },
   "notebookName": "exploracion_openmeteo",
   "widgets": {}
  },
  "language_info": {
   "name": "python"
  }
 },
 "nbformat": 4,
 "nbformat_minor": 0
}
